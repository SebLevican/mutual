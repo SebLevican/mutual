{
  "cells": [
    {
      "cell_type": "code",
      "execution_count": null,
      "metadata": {
        "id": "QSJ645SS56no"
      },
      "outputs": [],
      "source": [
        "import pandas as pd\n",
        "import numpy as np\n",
        "from functools import reduce\n",
        "\n",
        "UF = 34600.35"
      ]
    },
    {
      "cell_type": "code",
      "execution_count": null,
      "metadata": {
        "colab": {
          "base_uri": "https://localhost:8080/",
          "height": 731
        },
        "id": "FEvkblm5n0F0",
        "outputId": "3bbcdccf-262a-4be2-852c-9b17b3e27311"
      },
      "outputs": [],
      "source": [
        "mes_1 = pd.read_csv(r'mes_1.csv',encoding='latin-1', sep=';')\n",
        "mes_1['Dias Trabajados'].fillna(0,inplace=True)\n",
        "mes_1['Dias Trabajados'] = mes_1['Dias Trabajados'].astype(int)\n",
        "mes_1['RUT'] = mes_1['RUT'].str.replace('.','')\n",
        "mes_1 = mes_1[['RUT','Nombre','Renta Imponible', 'Dias Trabajados']]\n",
        "\n",
        "mes_2 =  pd.read_csv('mes_2.csv',encoding='latin-1', sep=';')\n",
        "mes_2['Dias Trabajados'].fillna(0,inplace=True)\n",
        "mes_2['Dias Trabajados'] = mes_2['Dias Trabajados'].astype(int)\n",
        "mes_2['RUT'] = mes_2['RUT'].str.replace('.','')\n",
        "mes_2 = mes_2[['RUT','Nombre','Renta Imponible', 'Dias Trabajados']]\n",
        "mes_2\n",
        "\n",
        "mes_3 =  pd.read_csv('mes_3.csv',encoding='latin-1', sep=';')\n",
        "mes_3['Dias Trabajados'].fillna(0,inplace=True)\n",
        "mes_3['Dias Trabajados'] = mes_3['Dias Trabajados'].astype(int)\n",
        "mes_3['RUT'] = mes_3['RUT'].str.replace('.','')\n",
        "mes_3 = mes_3[['RUT','Nombre','Renta Imponible', 'Dias Trabajados']]\n",
        "mes_3"
      ]
    },
    {
      "cell_type": "code",
      "execution_count": null,
      "metadata": {
        "colab": {
          "base_uri": "https://localhost:8080/",
          "height": 624
        },
        "id": "3sDIknWFs6sf",
        "outputId": "93615c47-38fe-4951-c728-c3934f0b1066"
      },
      "outputs": [],
      "source": [
        "abril.head()"
      ]
    },
    {
      "cell_type": "code",
      "execution_count": null,
      "metadata": {
        "colab": {
          "base_uri": "https://localhost:8080/",
          "height": 922
        },
        "id": "RCMKvLa_rY9p",
        "outputId": "f69116f7-19a0-4bdd-cd37-b56acf8c765e"
      },
      "outputs": [],
      "source": [
        "dfs = [mes_1,mes_2,mes_3]\n",
        "sueldos = reduce(lambda left, right: pd.merge(left,right,on='RUT'), dfs)\n",
        "sueldos['RUT'] = sueldos['RUT'].str.replace(' ','')\n",
        "sueldos['RUT'] = sueldos['RUT'].astype(str)\n",
        "sueldos.rename(columns={'Renta Imponible_x':'1','Dias Trabajados_x':'dias 1','Renta Imponible_y':'2','Dias Trabajados_y':'dias 2','Renta Imponible':'3','Dias Trabajados':'dias 3'},inplace=True)\n",
        "sueldos[['RUT','Nombre','1','dias 1','2','dias 2','3','dias 3']]\n"
      ]
    },
    {
      "cell_type": "code",
      "execution_count": null,
      "metadata": {
        "id": "Fj9_aS2s56nu"
      },
      "outputs": [],
      "source": [
        "actualiza = pd.read_csv(r'../actualiza.csv', encoding='latin-1', sep=';', dtype={'Rut':str})\n",
        "actualiza.rename(columns={'rutb':'RUT'},inplace=True)\n",
        "actualiza['RUT'] = actualiza['RUT'].str.replace(' ','')"
      ]
    },
    {
      "cell_type": "code",
      "execution_count": null,
      "metadata": {
        "colab": {
          "base_uri": "https://localhost:8080/",
          "height": 1000
        },
        "id": "U2BobZJtvn7T",
        "outputId": "b19cf593-5d8c-49c7-8e9a-e7bd6f7c547c"
      },
      "outputs": [],
      "source": [
        "# abril = pd.read_csv('/content/drive/MyDrive/licencia/mutual/mutual.csv', encoding='latin-1', sep=';')\n",
        "# abril.rename(columns={'rut':'RUT', 'DES_TIP_ATENC':'tipo'}, inplace=True)\n",
        "# abril['RUT']= abril['RUT'].astype(str)\n",
        "\n",
        "m = sueldos.merge(actualiza, on='RUT', how='inner')\n",
        "#m.rename(columns={'RUT_PAC':'RUT','RUT':'rut'},inplace=True)\n",
        "#m['RUT'] = m['RUT'].astype(str)\n",
        "mutual = pd.read_csv('../mutual.csv', encoding='latin-1', sep=';')\n",
        "mutual['RUT PAC'] = mutual['RUT PAC'].astype(str)\n",
        "mutual['rut'] = mutual['RUT PAC'].str[:-1]\n",
        "mutual['digito'] = mutual['RUT PAC'].str[-1:]\n",
        "mutual['RUT'] = mutual['rut'] + \"-\" + mutual['digito']\n",
        "mutualp = mutual.merge(m, how='inner', left_on='RUT PAC', right_on='RUT')\n",
        "mutualp.to_csv('mutualraw.csv')\n",
        " "
      ]
    },
    {
      "cell_type": "code",
      "execution_count": null,
      "metadata": {
        "id": "U-jJnopM56nx"
      },
      "outputs": [],
      "source": [
        "#sueldos = pd.read_csv('/content/drive/MyDrive/licencia/mutual/w.csv',encoding='latin-1',sep=';', dtype={'RUT':str, 'M_Pactado':float})\n",
        "\n",
        "afp = {\n",
        "    'CAPITAL AFP S.A.':'0.1144',\n",
        "    'CUPRUM AFP':'0.1144',\n",
        "    'HABITAT AFP':'0.1127',\n",
        "    'PLANVITAL AFP':'0.1116',\n",
        "    'PROVIDA AFP':'0.1145',\n",
        "    'MODELO AFP':'0.1058',\n",
        "    'UNO AFP S.A': '0.1069',\n",
        "    'jubilado':'0'\n",
        "}"
      ]
    },
    {
      "cell_type": "code",
      "execution_count": null,
      "metadata": {},
      "outputs": [],
      "source": [
        "#df.rename(columns={'trabajador':'NOMBRE','RUT':'rutb','tipo_n':'tipo','folio':'NUMERO'},inplace=True)"
      ]
    },
    {
      "cell_type": "code",
      "execution_count": null,
      "metadata": {
        "colab": {
          "base_uri": "https://localhost:8080/",
          "height": 1000
        },
        "id": "UvruGai256n1",
        "outputId": "3daceb51-2a0e-444b-ff0b-7aa0d5d9b7dd"
      },
      "outputs": [],
      "source": [
        "#df = sueldos.merge(actualiza, on='RUT', how='inner')\n",
        "df = pd.read_csv(r'mutualraw.csv', encoding='latin-1', sep=';')\n",
        "df.rename(columns={'RUT':'rutb','tipo_n':'tipo','folio':'NUMERO'},inplace=True)\n",
        "df = df[['NOM PAC','RUT PAC','DES TIP ATENC','tipoContrato','dias','NUMERO','inicio','Afp','Salud','M_Pactado','1','dias 1','2','dias 2','3','dias 3']]\n",
        "df.loc[1,'Afp'] = 'CUPRUM AFP'\n",
        "df.rename(columns={'rutb':'RUT'},inplace=True)\n",
        "df['promedio'] = df[['1','2','3']].mean(axis=1).round()\n",
        "df['M_Pactado'] = df['M_Pactado'].str.replace(',','.')\n",
        "df['M_Pactado'] = df['M_Pactado'].astype(float)\n",
        "df['Afp'].fillna('jubilado',inplace=True)\n",
        "df['AFPporcentaje'] = df['Afp'].apply(lambda x: afp[x])\n",
        "df['AFPporcentaje'] = df['AFPporcentaje'].astype(float)\n",
        "df.loc[df.Salud == 'FONDO NACIONAL DE SALUD', 'Salud Valor'] = (df.promedio * 0.07).round()\n",
        "df.loc[df.Salud != 'FONDO NACIONAL DE SALUD', 'Salud Valor'] = (df.M_Pactado * UF).round()\n",
        "df['AFPvalor'] = (df['promedio'] * df['AFPporcentaje']).round()\n",
        "df['cesantia'] = (df['promedio'] * 0.006).round()\n",
        "df['tributario'] = df['promedio'] - (df['AFPvalor'] + df['Salud Valor'] + df['cesantia']).round()\n",
        "df.loc[(df.tributario  >= 752004.01) & (df.tributario <= 1671120.00), 'Impuesto'] = ((df['tributario'] * 0.04) - 30080.16).round()\n",
        "df.loc[(df.tributario >= 1671120.01) & (df.tributario <= 2785200), 'Impuesto'] = ((df['tributario'] * 0.08) - 96924.96).round()\n",
        "df['Impuesto'] = df['Impuesto'].fillna(0)\n",
        "df['liquido'] = df['tributario'] - df['Impuesto']\n",
        "df['base'] = df['liquido']\n",
        "\n",
        "df['base'] = np.where(df['liquido'] >= 2588984,\n",
        "                      60140, df['liquido'] / 30)\n",
        "\n",
        "df['base']= df['base'].round()\n",
        "df['base'] = df['base'].astype(int)\n",
        "df['monto'] = df['base'] *  df['dias']\n",
        "df['monto'].fillna(0,inplace=True)\n",
        "df['monto'] = df['monto'].astype(int)\n",
        "df.to_csv('mutualpago.csv')"
      ]
    },
    {
      "cell_type": "code",
      "execution_count": null,
      "metadata": {},
      "outputs": [],
      "source": []
    },
    {
      "cell_type": "code",
      "execution_count": null,
      "metadata": {
        "colab": {
          "base_uri": "https://localhost:8080/",
          "height": 1000
        },
        "id": "kyi5nMRF56n3",
        "outputId": "286657c9-b9e9-4d31-cc17-9a6bdda0f692"
      },
      
    },
    {
      "cell_type": "code",
      "execution_count": null,
      "metadata": {
        "id": "WKZWo95tYfh8"
      },
      "outputs": [],
      "source": [
        "liq = "
      ]
    }
  ],
  "metadata": {
    "colab": {
      "name": "msub.ipynb",
      "provenance": []
    },
    "kernelspec": {
      "display_name": "Python 3.9.13 64-bit",
      "language": "python",
      "name": "python3"
    },
    "language_info": {
      "codemirror_mode": {
        "name": "ipython",
        "version": 3
      },
      "file_extension": ".py",
      "mimetype": "text/x-python",
      "name": "python",
      "nbconvert_exporter": "python",
      "pygments_lexer": "ipython3",
      "version": "3.9.13"
    },
    "orig_nbformat": 4,
    "vscode": {
      "interpreter": {
        "hash": "17e5f2d697a0925a35798d808a8140c62042e1d201d09ca36be05a3b208736df"
      }
    }
  },
  "nbformat": 4,
  "nbformat_minor": 0
}
